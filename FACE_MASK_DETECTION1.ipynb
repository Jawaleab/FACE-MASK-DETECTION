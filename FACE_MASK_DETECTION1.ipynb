{
 "cells": [
  {
   "cell_type": "code",
   "execution_count": 2,
   "metadata": {
    "colab": {},
    "colab_type": "code",
    "id": "FFac0l8iGgOc"
   },
   "outputs": [],
   "source": [
    "#Preparation of Dataset\n",
    "#Taking data from drive\n",
    "import cv2,os\n",
    "\n",
    "data_path='/home/suzi/Desktop/Data Science_python/Project_Files/Face Mask Detection/Face Mask Detection-20200623T131306Z-001/Face Mask Detection/dataset'\n",
    "categories=os.listdir(data_path)"
   ]
  },
  {
   "cell_type": "code",
   "execution_count": 3,
   "metadata": {
    "colab": {},
    "colab_type": "code",
    "id": "UqIhF_sRKoY0"
   },
   "outputs": [],
   "source": [
    "# Labeling category\n",
    "labels = [i for i in range(len(categories))]\n",
    "labels_dict = dict(zip(categories,labels))"
   ]
  },
  {
   "cell_type": "code",
   "execution_count": 5,
   "metadata": {
    "colab": {},
    "colab_type": "code",
    "id": "pDFLHwARLFPx"
   },
   "outputs": [],
   "source": [
    "imag_size = 80\n",
    "Data_X =[]\n",
    "Data_Y = []\n",
    "for category in categories:\n",
    "    path = os.path.join(data_path,category)\n",
    "    for img in os.listdir(path):\n",
    "        img_array = cv2.imread(os.path.join(path,img))\n",
    "        gray=cv2.cvtColor(img_array,cv2.COLOR_BGR2GRAY)\n",
    "        new_array = cv2.resize(gray,(imag_size,imag_size))\n",
    "        Data_X.append(new_array)\n",
    "        Data_Y.append(labels_dict[category])   "
   ]
  },
  {
   "cell_type": "code",
   "execution_count": 6,
   "metadata": {
    "colab": {},
    "colab_type": "code",
    "id": "S1EfScJBKq8o"
   },
   "outputs": [],
   "source": [
    "import numpy as np\n",
    "data = np.array(Data_X)\n",
    "data = np.reshape(data,(len(Data_X),imag_size,imag_size,1))/255.0\n",
    "Y = np.array(Data_Y)\n",
    "#Y = np.reshape(Y,(Y.shape[0],1))"
   ]
  },
  {
   "cell_type": "code",
   "execution_count": 24,
   "metadata": {
    "colab": {},
    "colab_type": "code",
    "id": "8XYWLDCOQIPj"
   },
   "outputs": [],
   "source": [
    "from tensorflow.keras.models import Sequential\n",
    "from tensorflow.keras.layers import Dense,Activation,Flatten,Dropout\n",
    "from tensorflow.keras.layers import Conv2D,MaxPooling2D\n",
    "from tensorflow.keras.callbacks import ModelCheckpoint\n",
    "\n",
    "model=Sequential()\n",
    "\n",
    "model.add(Conv2D(200,(3,3),input_shape=data.shape[1:]))\n",
    "model.add(Activation('relu'))\n",
    "model.add(MaxPooling2D(pool_size=(2,2)))\n",
    "#The first CNN layer followed by Relu and MaxPooling layers\n",
    "\n",
    "model.add(Conv2D(100,(3,3)))\n",
    "model.add(Activation('relu'))\n",
    "model.add(MaxPooling2D(pool_size=(2,2)))\n",
    "#The second convolution layer followed by Relu and MaxPooling layers\n",
    "\n",
    "# model.add(Conv2D(200,(3,3)))\n",
    "# model.add(Activation('relu'))\n",
    "# model.add(MaxPooling2D(pool_size=(2,2)))\n",
    "# # #adding 3rd layer to CNN\n",
    "\n",
    "model.add(Flatten())\n",
    "model.add(Dropout(0.5))\n",
    "#Flatten layer to stack the output convolutions from second convolution layer\n",
    "model.add(Dense(50,activation='relu'))\n",
    "#Dense layer of 64 neurons\n",
    "model.add(Dense(2,activation='softmax'))\n",
    "#The Final layer with two outputs for two categories\n",
    "\n",
    "model.compile(loss='sparse_categorical_crossentropy',optimizer='adam',metrics=['accuracy'])"
   ]
  },
  {
   "cell_type": "code",
   "execution_count": 25,
   "metadata": {
    "colab": {},
    "colab_type": "code",
    "id": "JFw463a9RbM4"
   },
   "outputs": [],
   "source": [
    "from sklearn.model_selection import train_test_split\n",
    "train_data,test_data,train_target,test_target=train_test_split(data,Y,test_size=0.1)"
   ]
  },
  {
   "cell_type": "code",
   "execution_count": 26,
   "metadata": {
    "colab": {},
    "colab_type": "code",
    "id": "oMIID5gyToAW"
   },
   "outputs": [],
   "source": [
    "checkpoint = ModelCheckpoint('model-{epoch:03d}.model',monitor='val_loss',verbose=0,save_best_only=True,mode='auto')"
   ]
  },
  {
   "cell_type": "code",
   "execution_count": 27,
   "metadata": {
    "colab": {
     "base_uri": "https://localhost:8080/",
     "height": 101
    },
    "colab_type": "code",
    "id": "nMlSd8k-Tvp4",
    "outputId": "57376e0f-5d8e-45e8-bcf9-4fd4e323fd8e"
   },
   "outputs": [
    {
     "name": "stdout",
     "output_type": "stream",
     "text": [
      "Train on 1238 samples, validate on 138 samples\n",
      "Epoch 1/10\n",
      "1216/1238 [============================>.] - ETA: 0s - loss: 0.6779 - accuracy: 0.5913INFO:tensorflow:Assets written to: model-001.model/assets\n",
      "1238/1238 [==============================] - 55s 44ms/sample - loss: 0.6755 - accuracy: 0.5945 - val_loss: 0.5785 - val_accuracy: 0.6739\n",
      "Epoch 2/10\n",
      "1216/1238 [============================>.] - ETA: 0s - loss: 0.4383 - accuracy: 0.7961INFO:tensorflow:Assets written to: model-002.model/assets\n",
      "1238/1238 [==============================] - 50s 40ms/sample - loss: 0.4379 - accuracy: 0.7964 - val_loss: 0.3146 - val_accuracy: 0.8623\n",
      "Epoch 3/10\n",
      "1216/1238 [============================>.] - ETA: 0s - loss: 0.2344 - accuracy: 0.9087INFO:tensorflow:Assets written to: model-003.model/assets\n",
      "1238/1238 [==============================] - 47s 38ms/sample - loss: 0.2332 - accuracy: 0.9095 - val_loss: 0.2117 - val_accuracy: 0.9203\n",
      "Epoch 4/10\n",
      "1216/1238 [============================>.] - ETA: 0s - loss: 0.1621 - accuracy: 0.9441INFO:tensorflow:Assets written to: model-004.model/assets\n",
      "1238/1238 [==============================] - 48s 39ms/sample - loss: 0.1626 - accuracy: 0.9443 - val_loss: 0.1877 - val_accuracy: 0.9203\n",
      "Epoch 5/10\n",
      "1238/1238 [==============================] - 48s 38ms/sample - loss: 0.1294 - accuracy: 0.9612 - val_loss: 0.1905 - val_accuracy: 0.9203\n",
      "Epoch 6/10\n",
      "1216/1238 [============================>.] - ETA: 0s - loss: 0.0912 - accuracy: 0.9688INFO:tensorflow:Assets written to: model-006.model/assets\n",
      "1238/1238 [==============================] - 48s 39ms/sample - loss: 0.0920 - accuracy: 0.9685 - val_loss: 0.1229 - val_accuracy: 0.9638\n",
      "Epoch 7/10\n",
      "1216/1238 [============================>.] - ETA: 0s - loss: 0.0828 - accuracy: 0.9688INFO:tensorflow:Assets written to: model-007.model/assets\n",
      "1238/1238 [==============================] - 47s 38ms/sample - loss: 0.0829 - accuracy: 0.9685 - val_loss: 0.1088 - val_accuracy: 0.9565\n",
      "Epoch 8/10\n",
      "1216/1238 [============================>.] - ETA: 0s - loss: 0.0649 - accuracy: 0.9770INFO:tensorflow:Assets written to: model-008.model/assets\n",
      "1238/1238 [==============================] - 48s 39ms/sample - loss: 0.0644 - accuracy: 0.9774 - val_loss: 0.1039 - val_accuracy: 0.9493\n",
      "Epoch 9/10\n",
      "1216/1238 [============================>.] - ETA: 0s - loss: 0.0445 - accuracy: 0.9819INFO:tensorflow:Assets written to: model-009.model/assets\n",
      "1238/1238 [==============================] - 49s 39ms/sample - loss: 0.0441 - accuracy: 0.9822 - val_loss: 0.0833 - val_accuracy: 0.9638\n",
      "Epoch 10/10\n",
      "1238/1238 [==============================] - 48s 39ms/sample - loss: 0.0305 - accuracy: 0.9895 - val_loss: 0.2114 - val_accuracy: 0.9203\n"
     ]
    }
   ],
   "source": [
    "history=model.fit(train_data,train_target,epochs=10,callbacks=[checkpoint],validation_data =(test_data, test_target))"
   ]
  },
  {
   "cell_type": "code",
   "execution_count": 50,
   "metadata": {
    "colab": {},
    "colab_type": "code",
    "id": "nwwq7zlpT-rl"
   },
   "outputs": [],
   "source": [
    "from tensorflow.keras.models import load_model\n",
    "import cv2\n",
    "import numpy as np"
   ]
  },
  {
   "cell_type": "code",
   "execution_count": 56,
   "metadata": {
    "colab": {},
    "colab_type": "code",
    "id": "DgbevCSXcSqU"
   },
   "outputs": [],
   "source": [
    "model = load_model('model-009.model')\n",
    "\n",
    "face_clsfr=cv2.CascadeClassifier('/home/suzi/Desktop/Data Science_python/Project_Files/Face Mask Detection/Face Mask Detection-20200623T131306Z-001/Face Mask Detection/haarcascade_frontalface_default.xml')\n",
    "\n",
    "source=cv2.VideoCapture(0)\n",
    "\n",
    "labels_dict={0:'NO MASK',1:'MASK'}\n",
    "color_dict={0:(0,0,255),1:(0,255,0)}"
   ]
  },
  {
   "cell_type": "code",
   "execution_count": 57,
   "metadata": {
    "colab": {
     "base_uri": "https://localhost:8080/",
     "height": 229
    },
    "colab_type": "code",
    "id": "VE1gRx6CcZg0",
    "outputId": "7104d8e0-869a-471f-b22c-f8704661888c"
   },
   "outputs": [],
   "source": [
    "while(True):\n",
    "\n",
    "    ret,img=source.read()\n",
    "    gray=cv2.cvtColor(img,cv2.COLOR_BGR2GRAY)\n",
    "    faces=face_clsfr.detectMultiScale(gray,2,5)  \n",
    "\n",
    "    for x,y,w,h in faces:\n",
    "    \n",
    "        face_img=gray[y:y+w,x:x+w]\n",
    "        resized=cv2.resize(face_img,(imag_size,imag_size))\n",
    "        normalized=resized/255.0\n",
    "        reshaped=np.reshape(normalized,(1,imag_size,imag_size,1))\n",
    "        result=model.predict(reshaped)\n",
    "\n",
    "        label=np.argmax(result,axis=1)[0]\n",
    "      \n",
    "        cv2.rectangle(img,(x,y),(x+w,y+h),color_dict[label],2)\n",
    "        cv2.rectangle(img,(x,y-40),(x+w,y),color_dict[label],-1)\n",
    "        cv2.putText(img, labels_dict[label], (x, y-10),cv2.FONT_HERSHEY_SIMPLEX,0.8,(255,255,255),2)\n",
    "        \n",
    "        \n",
    "    cv2.imshow('LIVE',img)\n",
    "    key=cv2.waitKey(1)\n",
    "    \n",
    "    if(key==27):\n",
    "        break\n",
    "        \n",
    "cv2.destroyAllWindows()\n",
    "source.release()"
   ]
  },
  {
   "cell_type": "code",
   "execution_count": null,
   "metadata": {
    "colab": {},
    "colab_type": "code",
    "id": "PUk8JqDJdUCP"
   },
   "outputs": [],
   "source": []
  }
 ],
 "metadata": {
  "colab": {
   "collapsed_sections": [],
   "name": "Face_Mask_Detection.ipynb",
   "provenance": []
  },
  "kernelspec": {
   "display_name": "Python 3",
   "language": "python",
   "name": "python3"
  },
  "language_info": {
   "codemirror_mode": {
    "name": "ipython",
    "version": 3
   },
   "file_extension": ".py",
   "mimetype": "text/x-python",
   "name": "python",
   "nbconvert_exporter": "python",
   "pygments_lexer": "ipython3",
   "version": "3.6.9"
  }
 },
 "nbformat": 4,
 "nbformat_minor": 1
}
